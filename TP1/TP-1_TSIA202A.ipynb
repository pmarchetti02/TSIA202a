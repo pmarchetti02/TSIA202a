{
 "cells": [
  {
   "cell_type": "markdown",
   "metadata": {},
   "source": [
    "\n",
    "Alexandre HEYMANN // Pierre MARCHETTI\n",
    "\n",
    "\n",
    "\n",
    "# TSIA202a - First Practice Session\n",
    "The goal of this first practical work is to experiment the estimation of second order moments for\n",
    "random processes, and to simply compare them with their theoretical version. \n",
    "\n",
    "Let consider the following real processes:\n",
    "-  White Noise (denoted $\\text{WN}$) $Z_t$ with variance $\\sigma^2$ (use `np.random.normal`)\n",
    "-  $X_t=a+bZ_t+Z_{t-1}$ where $Z_t \\sim \\text{WN}\\left(0,\\sigma^2\\right)$\n",
    "- $X_t = \\sum_{k=0}^{K}2^{-k}Z_{t-k} + a$ (with $K$ \"big enough\")\n",
    "- Harmonic Process: $X_t=A_0\\cos(\\lambda_0t+\\Phi_0)+Z_t$ where $\\lambda \\in [0,\\pi[,$ $\\Phi_0 \\sim \\mathcal{U}([0,2\\pi])$ (*e.g.* `np.random.uniform`)\n",
    "\n",
    "For each of them:\n",
    "1. Compute the theoretical mean and autocovariance of the previous mentioned real processes using the formulas $\\mathbb{E}(X_n)$ and $\\mathrm{Cov}(X_{n},X_{n+h})$.\n",
    "2. Compute their empirical mean and empirical autocovariance function using course's formulas in python.\n",
    "3. Plot the theoretical operator and empirical estimators for various sampling many times and comment.\n",
    "4. For a given number $ T \\in \\{10, 100, 500, 1000\\}$ of samples $X_1, \\dots, X_T$:\n",
    "  - for a given draw, compute the mean squared error (MSE) $\\frac{1}{T}\\sum_t (\\gamma_{t} - \\hat{\\gamma_{t}})^2$ between the theoretical and the empirical autocovariance function denoted $\\gamma$ and $\\hat{\\gamma}$ respectively.\n",
    "  - Repeat the previous step $100$ times and saves all the results.\n",
    "  - compute the boxplot of the MSE for each $T$ and comment.\n",
    "\n",
    "\n",
    "\n"
   ]
  },
  {
   "cell_type": "markdown",
   "metadata": {},
   "source": [
    "## White Noise $Z_t$ with variance $\\sigma^2$\n",
    "\n",
    "For white noise $Z_t \\sim \\text{WN}(\\sigma^2)$, the mean $\\mathbb{E}(X_n)$ is 0, and the autocovariance $\\mathrm{Cov}(X_{n},X_{n+h})$ is $\\sigma^2$ for $h=0$ and 0 for $h\\neq0$."
   ]
  },
  {
   "cell_type": "code",
   "execution_count": 14,
   "metadata": {},
   "outputs": [
    {
     "name": "stdout",
     "output_type": "stream",
     "text": [
      "Empirical Mean: -0.104\n",
      "Empirical Autocovariance (h=1): 0.817\n"
     ]
    }
   ],
   "source": [
    "import numpy as np\n",
    "\n",
    "def empirical_mean(data):\n",
    "    return np.mean(data)\n",
    "\n",
    "def empirical_autocovariance(data, h):\n",
    "    n = len(data)\n",
    "    mean = empirical_mean(data)\n",
    "\n",
    "    if 0 <= h <= n - 1:\n",
    "        s = np.sum((data[h:] - mean) * (np.conj(data[:n-h]) - mean.conj()))\n",
    "        return s / n\n",
    "    elif 0 <= -h <= n - 1:\n",
    "        s = np.sum((data[:n+h] - mean) * (np.conj(data[-h:]) - mean.conj()))\n",
    "        return s / n\n",
    "    else:\n",
    "        return 0\n",
    "\n",
    "# Example usage:\n",
    "np.random.seed(42)\n",
    "sigma = 1\n",
    "n = 100\n",
    "white_noise = np.random.normal(0, sigma, n) \n",
    "\n",
    "# Compute empirical mean\n",
    "mean_value = empirical_mean(white_noise)\n",
    "print(f\"Empirical Mean: {round(mean_value,3)}\")\n",
    "\n",
    "# Compute empirical autocovariance for h=1\n",
    "autocovariance_value = empirical_autocovariance(white_noise,0)\n",
    "print(f\"Empirical Autocovariance (h=1): {round(autocovariance_value,3)}\")\n",
    "\n",
    "\n"
   ]
  }
 ],
 "metadata": {
  "kernelspec": {
   "display_name": "Python 3",
   "language": "python",
   "name": "python3"
  },
  "language_info": {
   "codemirror_mode": {
    "name": "ipython",
    "version": 3
   },
   "file_extension": ".py",
   "mimetype": "text/x-python",
   "name": "python",
   "nbconvert_exporter": "python",
   "pygments_lexer": "ipython3",
   "version": "3.9.9"
  },
  "orig_nbformat": 4
 },
 "nbformat": 4,
 "nbformat_minor": 2
}

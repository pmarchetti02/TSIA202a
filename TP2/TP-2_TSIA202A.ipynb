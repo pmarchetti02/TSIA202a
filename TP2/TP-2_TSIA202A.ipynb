{
 "cells": [
  {
   "cell_type": "markdown",
   "metadata": {},
   "source": [
    "# TSIA202a - Second Practice Session : Spectral density estimation and periodogram\n",
    "The goal of this second session is to provide a power spectral density estimator of a real, zero-mean, weakly stationary process $X_t$. We suppose that we have access to $n$ observations and we will use the FFT algorithm (that implements the DFT) using `numpy.fft.module`.\n",
    "Recall (from the course) that the periodogram of the observations $X_0, \\dots, X_{n-1}$ can be given as:\n",
    "$$\n",
    "I_n(\\lambda) = \\frac{1}{2\\pi n}|\\sum_{k=0}^{n-1} X_k e^{i\\lambda k}|^2\n",
    "$$\n",
    "\n",
    "Moreover, the Hertglotz theorem provides a relation between the empirical autocovariance $\\hat{\\gamma}_n$ and the periodogram $I_n$:\n",
    "$$\n",
    "\\hat{\\gamma}_n(k) = \\int_{0}^{2\\pi}e^{i\\lambda k}I_n({\\lambda})d\\lambda\n",
    "$$\n",
    "\n",
    "1. For a given $m \\geq n$  we denote also the DFT as:\n",
    "$$\n",
    "DFT(X,m)(k) = \\sum_{h=0}^{n-1}X_he^{-2i\\pi\\frac{kh}{m}}\n",
    "$$\n",
    "Show the following relation: \n",
    "$$I_n(\\frac{2\\pi k}{m}) = \\frac{1}{2\\pi n} |DFT(X,m)(k)|^2$$\n",
    "2. provide a script that compute those $I_n(\\frac{2\\pi k}{m})$ for the time series mentioned in the first practice session\n",
    "3. Show that $I_n(\\lambda) = \\frac{1}{2\\pi} \\sum_{k=0}^{n-1} \\hat{\\gamma}_n(k)e^{-i\\lambda k}$\n",
    "4. How to choose $m$ in order to get a simple relation between $\\hat{\\gamma}_n(k)$ and $I_n(\\frac{2\\pi k}{m})$ ? At the end, given a specific $\\tilde{m}$ show that:\n",
    "$$\n",
    "\\hat{\\gamma}_n(k) = \\frac{1}{n} IDFT\\left(\\left|DFT(X, \\tilde{m})\\right|^2, \\tilde{m}\\right)(k)\n",
    "$$ Try this estimator on the autocovariance of previous time series of the first session.\n",
    "\n",
    "5. In the case of white noise, estimate the variance of the periodogram for several values of $n$ and discuss about it.\n",
    "\n",
    "\n"
   ]
  },
  {
   "cell_type": "markdown",
   "metadata": {},
   "source": []
  },
  {
   "cell_type": "markdown",
   "metadata": {},
   "source": [
    "For white noise\n"
   ]
  },
  {
   "cell_type": "code",
   "execution_count": null,
   "metadata": {},
   "outputs": [],
   "source": [
    "import numpy as np\n",
    "from math import *\n",
    "\n",
    "def perdiodigram_calcul(X,m,k):\n",
    "    dft = 0\n",
    "    for h in range(n):\n",
    "        dft+=X[h]*math.exp(-2j*math.pi*k*h/m)\n",
    "    "
   ]
  }
 ],
 "metadata": {
  "kernelspec": {
   "display_name": "Python 3",
   "language": "python",
   "name": "python3"
  },
  "language_info": {
   "codemirror_mode": {
    "name": "ipython",
    "version": 3
   },
   "file_extension": ".py",
   "mimetype": "text/x-python",
   "name": "python",
   "nbconvert_exporter": "python",
   "pygments_lexer": "ipython3",
   "version": "3.9.9"
  },
  "orig_nbformat": 4
 },
 "nbformat": 4,
 "nbformat_minor": 2
}
